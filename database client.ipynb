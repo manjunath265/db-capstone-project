{
 "cells": [
  {
   "cell_type": "code",
   "execution_count": 1,
   "id": "1c97d894-5a9a-4596-921e-3bc91c1c8793",
   "metadata": {},
   "outputs": [
    {
     "name": "stdout",
     "output_type": "stream",
     "text": [
      "Requirement already satisfied: mysql-connector-python in c:\\users\\manju\\appdata\\local\\programs\\python\\python312\\lib\\site-packages (9.0.0)\n"
     ]
    },
    {
     "name": "stderr",
     "output_type": "stream",
     "text": [
      "\n",
      "[notice] A new release of pip is available: 24.2 -> 24.3.1\n",
      "[notice] To update, run: python.exe -m pip install --upgrade pip\n"
     ]
    }
   ],
   "source": [
    "!pip install mysql-connector-python"
   ]
  },
  {
   "cell_type": "code",
   "execution_count": 2,
   "id": "eaac0eb9-71ec-442c-a607-41e43c51d124",
   "metadata": {},
   "outputs": [
    {
     "ename": "SyntaxError",
     "evalue": "invalid syntax (842801469.py, line 1)",
     "output_type": "error",
     "traceback": [
      "\u001b[1;36m  Cell \u001b[1;32mIn[2], line 1\u001b[1;36m\u001b[0m\n\u001b[1;33m    python.exe -m pip install --upgrade pip\u001b[0m\n\u001b[1;37m                  ^\u001b[0m\n\u001b[1;31mSyntaxError\u001b[0m\u001b[1;31m:\u001b[0m invalid syntax\n"
     ]
    }
   ],
   "source": [
    "python.exe -m pip install --upgrade pip"
   ]
  },
  {
   "cell_type": "code",
   "execution_count": 3,
   "id": "ee1b3323-9dd8-42bf-9f3d-892dfb36a4b6",
   "metadata": {},
   "outputs": [
    {
     "name": "stdout",
     "output_type": "stream",
     "text": [
      "Requirement already satisfied: mysql-connector-python in c:\\users\\manju\\appdata\\local\\programs\\python\\python312\\lib\\site-packages (9.0.0)\n"
     ]
    },
    {
     "name": "stderr",
     "output_type": "stream",
     "text": [
      "\n",
      "[notice] A new release of pip is available: 24.2 -> 24.3.1\n",
      "[notice] To update, run: python.exe -m pip install --upgrade pip\n"
     ]
    }
   ],
   "source": [
    "!pip install mysql-connector-python"
   ]
  },
  {
   "cell_type": "code",
   "execution_count": 4,
   "id": "28d41e44-b2ed-4922-95f8-bde99c9e1c65",
   "metadata": {},
   "outputs": [],
   "source": [
    "import mysql.connector as connector"
   ]
  },
  {
   "cell_type": "code",
   "execution_count": 7,
   "id": "5d80037d-4607-4d77-9701-8e116d2ef341",
   "metadata": {},
   "outputs": [],
   "source": [
    "connection = connector.connect(user = \"root\", password = \"Reddy2653\")"
   ]
  },
  {
   "cell_type": "code",
   "execution_count": 8,
   "id": "af48f3d8-b9ed-4d21-b9f2-bc413ab879f4",
   "metadata": {},
   "outputs": [],
   "source": [
    "cursor = connection.cursor()"
   ]
  },
  {
   "cell_type": "code",
   "execution_count": 9,
   "id": "5376ebdb-fe39-4122-ab72-1773526ca673",
   "metadata": {},
   "outputs": [],
   "source": [
    "cursor.execute(\"USE mydb\")"
   ]
  },
  {
   "cell_type": "code",
   "execution_count": 15,
   "id": "63bfd256-69e8-46de-ae79-96ca309471b0",
   "metadata": {},
   "outputs": [
    {
     "name": "stdout",
     "output_type": "stream",
     "text": [
      "('Customer name', 'Contact details', 'Total Cost')\n",
      "[]\n"
     ]
    }
   ],
   "source": [
    "# The SQL query\n",
    "creating_joins = \"\"\"\n",
    "SELECT \n",
    "    Customerdetails.`Customer name`, \n",
    "    Customerdetails.`Contact details`, \n",
    "    Orders.`Total Cost`\n",
    "FROM \n",
    "    Customerdetails\n",
    "INNER JOIN \n",
    "    Orders \n",
    "ON \n",
    "    Customerdetails.`customer id` = Orders.`customer id`\n",
    "WHERE \n",
    "    Orders.`Total Cost` > 10;\n",
    "\"\"\"\n",
    "\n",
    "# Execute the query\n",
    "cursor.execute(creating_joins)\n",
    "\n",
    "# Fetch and display results\n",
    "results = cursor.fetchall()\n",
    "print(cursor.column_names)  \n",
    "print(results)  # Prints query results\n"
   ]
  },
  {
   "cell_type": "code",
   "execution_count": null,
   "id": "0cfb3f03-43a6-46b9-a474-d552ad72987c",
   "metadata": {},
   "outputs": [],
   "source": []
  },
  {
   "cell_type": "code",
   "execution_count": null,
   "id": "f8440114-b857-4776-8968-32b2e3ee9444",
   "metadata": {},
   "outputs": [],
   "source": []
  }
 ],
 "metadata": {
  "kernelspec": {
   "display_name": "Python 3 (ipykernel)",
   "language": "python",
   "name": "python3"
  },
  "language_info": {
   "codemirror_mode": {
    "name": "ipython",
    "version": 3
   },
   "file_extension": ".py",
   "mimetype": "text/x-python",
   "name": "python",
   "nbconvert_exporter": "python",
   "pygments_lexer": "ipython3",
   "version": "3.12.5"
  }
 },
 "nbformat": 4,
 "nbformat_minor": 5
}
